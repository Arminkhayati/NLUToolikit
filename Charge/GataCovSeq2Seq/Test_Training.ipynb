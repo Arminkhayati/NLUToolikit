{
 "cells": [
  {
   "cell_type": "code",
   "execution_count": 32,
   "outputs": [],
   "source": [
    "from charge_dataset import ChargeDataset\n",
    "import random\n",
    "from tokenizer import Tokenizer\n",
    "import torch\n",
    "from torch.utils.data import DataLoader\n",
    "from utils import  *\n",
    "from model import *\n",
    "from train import train\n",
    "from torch.nn.utils.rnn import pad_sequence\n",
    "from tqdm.notebook import tqdm\n",
    "import pickle\n",
    "import matplotlib.pyplot as plt\n",
    "import matplotlib.ticker as ticker\n",
    "import warnings\n",
    "warnings.filterwarnings(\"ignore\")"
   ],
   "metadata": {
    "collapsed": false,
    "pycharm": {
     "name": "#%%\n"
    }
   }
  },
  {
   "cell_type": "code",
   "execution_count": 33,
   "outputs": [
    {
     "name": "stdout",
     "output_type": "stream",
     "text": [
      "67 total templates\n",
      "54 training templates\n",
      "13 validation templates\n",
      "0 test templates\n"
     ]
    }
   ],
   "source": [
    "TEST_SET = False\n",
    "CONF = load_conf()\n",
    "CONF[\"special_tokens\"] = {\n",
    "    # CONF[\"unk_token\"]: 1,\n",
    "    CONF[\"pad_token\"]: 0,\n",
    "    # CONF[\"sos_token\"]: 12,\n",
    "    # CONF[\"eos_token\"]: 13,\n",
    "}\n",
    "\n",
    "\n",
    "# set seed\n",
    "set_seed(CONF['seed'])\n",
    "\n",
    "def collate_fn(batch):\n",
    "    PAD_IDX = CONF[\"special_tokens\"][CONF[\"pad_token\"]]\n",
    "    src_batch, tgt_batch = [], []\n",
    "    for src_sample, tgt_sample in batch:\n",
    "        src_batch.append(src_sample)\n",
    "        tgt_batch.append(tgt_sample)\n",
    "    src_batch = pad_sequence(src_batch, padding_value=PAD_IDX, batch_first=True)\n",
    "    tgt_batch = pad_sequence(tgt_batch, padding_value=PAD_IDX, batch_first=True)\n",
    "    return src_batch, tgt_batch\n",
    "\n",
    "# get device\n",
    "DEVICE = torch.device('cuda' if torch.cuda.is_available() else 'cpu')\n",
    "# DEVICE = torch.device('cpu')\n",
    "\n",
    "# load templates\n",
    "train_templates, val_templates, test_templates = load_templates(path=\"Charge.txt\", sos_eos=True,\n",
    "                                                                split=0.2, test_set=TEST_SET)"
   ],
   "metadata": {
    "collapsed": false,
    "pycharm": {
     "name": "#%%\n"
    }
   }
  },
  {
   "cell_type": "code",
   "execution_count": 34,
   "outputs": [],
   "source": [
    "with open(os.path.join(\"data\", 'train_data.pickle'), \"rb\") as f:\n",
    "    train_templates = pickle.load(f)\n",
    "with open(os.path.join(\"data\", 'validation_data.pickle'), \"rb\") as f:\n",
    "    val_templates = pickle.load(f)\n",
    "if TEST_SET:\n",
    "    with open(os.path.join(\"data\", \"test_data.pickle\"), \"rb\") as f:\n",
    "        test_templates = pickle.load(f)"
   ],
   "metadata": {
    "collapsed": false,
    "pycharm": {
     "name": "#%%\n"
    }
   }
  },
  {
   "cell_type": "code",
   "execution_count": 35,
   "outputs": [
    {
     "name": "stdout",
     "output_type": "stream",
     "text": [
      "['شارژ', '{amount}', '{unit}', '{charge_type}', '{operator}', '{for_{me}}', '{verb}']\n",
      "['{for}', '{device}', '{me}', '{from}', '{account}', '{bnumber}', 'شارژ', '{amount}', '{unit}', '{operator}', '{verb}']\n"
     ]
    }
   ],
   "source": [
    "for t in val_templates[:2]:\n",
    "    print(t)"
   ],
   "metadata": {
    "collapsed": false,
    "pycharm": {
     "name": "#%%\n"
    }
   }
  },
  {
   "cell_type": "code",
   "execution_count": 36,
   "outputs": [],
   "source": [
    "\n",
    "# Create Tokenizers\n",
    "x_tokenizer = Tokenizer(num_words=CONF[\"num_words\"], max_seq_len=CONF[\"max_length\"],\n",
    "                        for_sentence=True)\n",
    "y_tokenizer = Tokenizer(num_words=CONF[\"num_words\"], max_seq_len=CONF[\"max_length\"],\n",
    "                        for_sentence=False, sos_eos=True)\n",
    "\n",
    "# Create Datasets\n",
    "train_dataset = ChargeDataset(train_templates, x_tokenizer, y_tokenizer, CONF[\"num_train_data\"], DEVICE)\n",
    "train_dataset.train = True\n",
    "valid_dataset = ChargeDataset(val_templates, x_tokenizer, y_tokenizer, CONF[\"num_val_data\"], DEVICE)\n",
    "valid_dataset.train = False\n",
    "if TEST_SET:\n",
    "    test_dataset = ChargeDataset(test_templates, x_tokenizer, y_tokenizer, CONF[\"num_val_data\"], DEVICE)\n",
    "    test_dataset.train = False\n",
    "\n",
    "# get data loaders\n",
    "train_dataloader = DataLoader(train_dataset, batch_size=CONF['batch_size'],\n",
    "                              shuffle=True, collate_fn=collate_fn)\n",
    "valid_dataloader = DataLoader(valid_dataset, batch_size=CONF['batch_size'],\n",
    "                              shuffle=True, collate_fn=collate_fn)\n",
    "if TEST_SET:\n",
    "    test_dataloader = DataLoader(test_dataset, batch_size=CONF['batch_size'],\n",
    "                                 shuffle=True, collate_fn=collate_fn)\n",
    "# create model\n",
    "encoder = Encoder(input_dim = CONF[\"num_words\"]+50,\n",
    "                  emb_dim = CONF['embed_size'],\n",
    "                  hid_dim = CONF['hidden_size'],\n",
    "                  n_layers = CONF['encoder_layers'],\n",
    "                  kernel_size = CONF['kernel_size'],\n",
    "                  dropout = CONF['dropout'],\n",
    "                  device = DEVICE,\n",
    "                  max_length=CONF['max_length'],\n",
    "                  )\n",
    "\n",
    "decoder = Decoder(output_dim = CONF[\"num_words\"]+50,\n",
    "                  emb_dim = CONF['embed_size'],\n",
    "                  hid_dim = CONF['hidden_size'],\n",
    "                  n_layers = CONF['decoder_layers'],\n",
    "                  kernel_size = CONF['kernel_size'],\n",
    "                  dropout = CONF['dropout'],\n",
    "                  tgt_pad_idx = CONF[\"special_tokens\"][CONF['pad_token']],\n",
    "                  device = DEVICE,\n",
    "                  max_length=CONF['max_length'],\n",
    "                  )\n",
    "\n",
    "convs2s = Seq2Seq(encoder, decoder, device = DEVICE,)\n",
    "optimizer = torch.optim.Adam(convs2s.parameters())\n",
    "criterion = torch.nn.CrossEntropyLoss(ignore_index = CONF[\"special_tokens\"][CONF['pad_token']]).to(DEVICE)\n",
    "# criterion = torch.nn.CrossEntropyLoss().to(DEVICE)"
   ],
   "metadata": {
    "collapsed": false,
    "pycharm": {
     "name": "#%%\n"
    }
   }
  },
  {
   "cell_type": "code",
   "execution_count": 37,
   "outputs": [
    {
     "name": "stderr",
     "output_type": "stream",
     "text": [
      "Training 1: 100%|██████████| 313/313 [00:33<00:00,  9.38it/s]\n",
      "Evaluating: 100%|██████████| 157/157 [00:08<00:00, 19.43it/s]\n"
     ]
    },
    {
     "name": "stdout",
     "output_type": "stream",
     "text": [
      "Epoch: 01 | Time: 0m 41s\n",
      "\tTrain Loss: 0.932 | Train PPL:   2.539\n",
      "\t Val. Loss: 1.080 |  Val. PPL:   2.945\n"
     ]
    },
    {
     "name": "stderr",
     "output_type": "stream",
     "text": [
      "Training 2: 100%|██████████| 313/313 [00:47<00:00,  6.56it/s]\n",
      "Evaluating: 100%|██████████| 157/157 [00:11<00:00, 14.21it/s]\n"
     ]
    },
    {
     "name": "stdout",
     "output_type": "stream",
     "text": [
      "Epoch: 02 | Time: 0m 58s\n",
      "\tTrain Loss: 0.731 | Train PPL:   2.078\n",
      "\t Val. Loss: 1.079 |  Val. PPL:   2.940\n"
     ]
    },
    {
     "name": "stderr",
     "output_type": "stream",
     "text": [
      "Training 3: 100%|██████████| 313/313 [00:45<00:00,  6.82it/s]\n",
      "Evaluating: 100%|██████████| 157/157 [00:15<00:00,  9.85it/s]\n"
     ]
    },
    {
     "name": "stdout",
     "output_type": "stream",
     "text": [
      "Epoch: 03 | Time: 1m 1s\n",
      "\tTrain Loss: 0.621 | Train PPL:   1.861\n",
      "\t Val. Loss: 1.143 |  Val. PPL:   3.137\n"
     ]
    },
    {
     "name": "stderr",
     "output_type": "stream",
     "text": [
      "Training 4: 100%|██████████| 313/313 [00:47<00:00,  6.58it/s]\n",
      "Evaluating: 100%|██████████| 157/157 [00:20<00:00,  7.76it/s]\n"
     ]
    },
    {
     "name": "stdout",
     "output_type": "stream",
     "text": [
      "Epoch: 04 | Time: 1m 7s\n",
      "\tTrain Loss: 0.601 | Train PPL:   1.824\n",
      "\t Val. Loss: 1.036 |  Val. PPL:   2.817\n"
     ]
    },
    {
     "name": "stderr",
     "output_type": "stream",
     "text": [
      "Training 5: 100%|██████████| 313/313 [00:49<00:00,  6.27it/s]\n",
      "Evaluating: 100%|██████████| 157/157 [00:13<00:00, 11.62it/s]"
     ]
    },
    {
     "name": "stdout",
     "output_type": "stream",
     "text": [
      "Epoch: 05 | Time: 1m 3s\n",
      "\tTrain Loss: 0.515 | Train PPL:   1.674\n",
      "\t Val. Loss: 1.056 |  Val. PPL:   2.874\n"
     ]
    },
    {
     "name": "stderr",
     "output_type": "stream",
     "text": [
      "\n"
     ]
    }
   ],
   "source": [
    "# train\n",
    "train(  convs2s,\n",
    "        criterion,\n",
    "        train_dataloader,\n",
    "        valid_dataloader,\n",
    "        optimizer,\n",
    "        CONF[\"epochs\"],\n",
    "        CONF[\"clip\"],\n",
    "        )\n",
    "\n",
    "\n",
    "with open(os.path.join(\"checkpoint\", 'x_tokenizer.pickle'), 'wb') as handle:\n",
    "    pickle.dump(x_tokenizer, handle)\n",
    "with open(os.path.join(\"checkpoint\", 'y_tokenizer.pickle'), 'wb') as handle:\n",
    "    pickle.dump(y_tokenizer, handle)\n",
    "\n",
    "# chkpoint = torch.load(os.path.join(\"checkpoint\", 'bestmodel.pt'))\n",
    "convs2s.load_state_dict(load_model())"
   ],
   "metadata": {
    "collapsed": false,
    "pycharm": {
     "name": "#%%\n"
    }
   }
  },
  {
   "cell_type": "code",
   "execution_count": 38,
   "outputs": [
    {
     "data": {
      "text/plain": "<All keys matched successfully>"
     },
     "execution_count": 38,
     "metadata": {},
     "output_type": "execute_result"
    }
   ],
   "source": [
    "convs2s.load_state_dict(load_model())"
   ],
   "metadata": {
    "collapsed": false,
    "pycharm": {
     "name": "#%%\n"
    }
   }
  },
  {
   "cell_type": "code",
   "execution_count": 39,
   "outputs": [],
   "source": [
    "def find_slots_from(sentence, model, x_tokenizer, y_tokenizer, device, max_len=CONF[\"max_length\"]):\n",
    "    model.eval()\n",
    "    sentence = sentence.strip().split(\" \")\n",
    "    sentence = [\"<sos>\"] + sentence + [\"<eos>\"]\n",
    "    src_indexes = x_tokenizer.words_to_seq(sentence)\n",
    "    print(\"source lenght : \", len(src_indexes), src_indexes)\n",
    "    src_tensor = torch.LongTensor(src_indexes).unsqueeze(0).to(device)\n",
    "    with torch.no_grad():\n",
    "        encoder_conved, encoder_combined = model.encoder(src_tensor)\n",
    "    trg_indexes = [y_tokenizer.word_to_index[\"<sos>\"]]\n",
    "    for i in range(max_len):\n",
    "        trg_tensor = torch.LongTensor(trg_indexes).unsqueeze(0).to(device)\n",
    "        # print(\"trg_tensor\", trg_tensor.size())\n",
    "        with torch.no_grad():\n",
    "            output, attention = model.decoder(trg_tensor, encoder_conved, encoder_combined)\n",
    "        # print(\"output\", output.size())\n",
    "        # print(\"output.argmax(2)\", output.argmax(2).size())\n",
    "        pred_token = output.argmax(2)[:,-1].item()\n",
    "        trg_indexes.append(pred_token)\n",
    "        print(\"کلمه: \", x_tokenizer.seq_to_words([src_indexes[i]]), \"اسلات: \", y_tokenizer.seq_to_words([pred_token]))\n",
    "\n",
    "        if pred_token == y_tokenizer.word_to_index[\"<eos>\"]:\n",
    "            break\n",
    "    trg_tokens = y_tokenizer.seq_to_words(trg_indexes)\n",
    "    return trg_tokens[1:], attention"
   ],
   "metadata": {
    "collapsed": false,
    "pycharm": {
     "name": "#%%\n"
    }
   }
  },
  {
   "cell_type": "code",
   "execution_count": 40,
   "outputs": [],
   "source": [
    "def display_attention(sentence, translation, attention):\n",
    "    fig, ax = plt.subplots(figsize=(8,8))\n",
    "    ssentence = sentence.strip().split(\" \")\n",
    "    nattention = attention.squeeze(0).cpu().detach().numpy()\n",
    "    cax = ax.matshow(nattention, cmap='bone')\n",
    "    ax.tick_params(labelsize=15)\n",
    "    ax.set_xticklabels(['']+['<sos>']+[t for t in ssentence]+['<eos>'],\n",
    "                       rotation=45)\n",
    "    ax.set_yticklabels(['']+translation)\n",
    "\n",
    "    ax.xaxis.set_major_locator(ticker.MultipleLocator(1))\n",
    "    ax.yaxis.set_major_locator(ticker.MultipleLocator(1))\n",
    "\n",
    "    plt.show()\n",
    "    plt.close()"
   ],
   "metadata": {
    "collapsed": false,
    "pycharm": {
     "name": "#%%\n"
    }
   }
  },
  {
   "cell_type": "code",
   "execution_count": 41,
   "outputs": [
    {
     "name": "stdout",
     "output_type": "stream",
     "text": [
      "source lenght :  45 [3, 62, 65, 6, 1, 1, 97, 37, 2, 0, 0, 0, 0, 0, 0, 0, 0, 0, 0, 0, 0, 0, 0, 0, 0, 0, 0, 0, 0, 0, 0, 0, 0, 0, 0, 0, 0, 0, 0, 0, 0, 0, 0, 0, 0]\n",
      "کلمه:  ['<sos>'] اسلات:  ['charge_type']\n",
      "کلمه:  ['شارژ'] اسلات:  ['charge_type_post']\n",
      "کلمه:  ['شگفت'] اسلات:  ['operator']\n",
      "کلمه:  ['انگیز'] اسلات:  ['OOV']\n",
      "کلمه:  ['OOV'] اسلات:  ['OOV']\n",
      "کلمه:  ['OOV'] اسلات:  ['amount']\n",
      "کلمه:  ['هزار'] اسلات:  ['unit']\n",
      "کلمه:  ['تومنی'] اسلات:  ['OOV']\n",
      "کلمه:  ['<eos>'] اسلات:  ['OOV']\n",
      "کلمه:  [] اسلات:  ['OOV']\n",
      "کلمه:  [] اسلات:  ['OOV']\n",
      "کلمه:  [] اسلات:  ['OOV']\n",
      "کلمه:  [] اسلات:  ['bnumber']\n",
      "کلمه:  [] اسلات:  ['OOV']\n",
      "کلمه:  [] اسلات:  ['OOV']\n",
      "کلمه:  [] اسلات:  ['OOV']\n",
      "کلمه:  [] اسلات:  ['OOV']\n",
      "کلمه:  [] اسلات:  ['OOV']\n",
      "کلمه:  [] اسلات:  ['OOV']\n",
      "کلمه:  [] اسلات:  ['OOV']\n",
      "کلمه:  [] اسلات:  ['OOV']\n",
      "کلمه:  [] اسلات:  ['OOV']\n",
      "کلمه:  [] اسلات:  ['OOV']\n",
      "کلمه:  [] اسلات:  ['bnumber']\n",
      "کلمه:  [] اسلات:  ['OOV']\n",
      "کلمه:  [] اسلات:  ['charge_type']\n",
      "کلمه:  [] اسلات:  ['charge_type_post']\n",
      "کلمه:  [] اسلات:  ['operator']\n",
      "کلمه:  [] اسلات:  ['OOV']\n",
      "کلمه:  [] اسلات:  ['OOV']\n",
      "کلمه:  [] اسلات:  ['OOV']\n",
      "کلمه:  [] اسلات:  ['OOV']\n",
      "کلمه:  [] اسلات:  ['OOV']\n",
      "کلمه:  [] اسلات:  ['bnumber']\n",
      "کلمه:  [] اسلات:  ['OOV']\n",
      "کلمه:  [] اسلات:  ['charge_type']\n",
      "کلمه:  [] اسلات:  ['charge_type_post']\n",
      "کلمه:  [] اسلات:  ['operator']\n",
      "کلمه:  [] اسلات:  ['OOV']\n",
      "کلمه:  [] اسلات:  ['OOV']\n",
      "کلمه:  [] اسلات:  ['amount']\n",
      "کلمه:  [] اسلات:  ['unit']\n",
      "کلمه:  [] اسلات:  ['OOV']\n",
      "کلمه:  [] اسلات:  ['OOV']\n",
      "کلمه:  [] اسلات:  ['OOV']\n",
      "predicted trg = ['charge_type', 'charge_type_post', 'operator', 'OOV', 'OOV', 'amount', 'unit', 'OOV', 'OOV', 'OOV', 'OOV', 'OOV', 'bnumber', 'OOV', 'OOV', 'OOV', 'OOV', 'OOV', 'OOV', 'OOV', 'OOV', 'OOV', 'OOV', 'bnumber', 'OOV', 'charge_type', 'charge_type_post', 'operator', 'OOV', 'OOV', 'OOV', 'OOV', 'OOV', 'bnumber', 'OOV', 'charge_type', 'charge_type_post', 'operator', 'OOV', 'OOV', 'amount', 'unit', 'OOV', 'OOV', 'OOV']\n"
     ]
    }
   ],
   "source": [
    "sentence = \"شارژ شگفت انگیز ایرنسل 50 هزار تومنی\"\n",
    "translation, attention = find_slots_from(sentence, convs2s, x_tokenizer, y_tokenizer, DEVICE)\n",
    "print(f'predicted trg = {translation}')\n",
    "# display_attention(sentence, translation, attention)"
   ],
   "metadata": {
    "collapsed": false,
    "pycharm": {
     "name": "#%%\n"
    }
   }
  },
  {
   "cell_type": "code",
   "execution_count": 20,
   "outputs": [
    {
     "data": {
      "text/plain": "{2: '<eos>',\n 3: '<sos>',\n 4: 'آنلاین',\n 5: 'از',\n 6: 'انگیز',\n 7: 'اول',\n 8: 'ایرانسل',\n 9: 'اینترنت',\n 10: 'با',\n 11: 'بخر',\n 12: 'بخرید',\n 13: 'بخرین',\n 14: 'برا',\n 15: 'برام',\n 16: 'برای',\n 17: 'برایم',\n 18: 'بریز',\n 19: 'بریزید',\n 20: 'بریزین',\n 21: 'بنده',\n 22: 'به',\n 23: 'بوسیله',\n 24: 'بچت',\n 25: 'بکن',\n 26: 'بکنید',\n 27: 'بکنین',\n 28: 'بگیر',\n 29: 'بگیرید',\n 30: 'بگیرین',\n 31: 'تلفن',\n 32: 'تو',\n 33: 'توسط',\n 34: 'تومان',\n 35: 'تومانی',\n 36: 'تومن',\n 37: 'تومنی',\n 38: 'جان',\n 39: 'جون',\n 40: 'حساب',\n 41: 'خدا',\n 42: 'خری',\n 43: 'خرید',\n 44: 'خرین',\n 45: 'خط',\n 46: 'خلیج',\n 47: 'خواستم',\n 48: 'خوام',\n 49: 'خواهش',\n 50: 'خواهشا',\n 51: 'خواهشمندم',\n 52: 'خودم',\n 53: 'خوم',\n 54: 'دیت',\n 55: 'رایتل',\n 56: 'رو',\n 57: 'ریال',\n 58: 'ریالی',\n 59: 'سی',\n 60: 'سیم',\n 61: 'شاتل',\n 62: 'شارژ',\n 63: 'شم',\n 64: 'شماره',\n 65: 'شگفت',\n 66: 'فارس',\n 67: 'لطفا',\n 68: 'م',\n 69: 'مادرت',\n 70: 'مبلغ',\n 71: 'مخاطب',\n 72: 'مخاطبین',\n 73: 'مخاطبینم',\n 74: 'معمولی',\n 75: 'ممنون',\n 76: 'من',\n 77: 'مو',\n 78: 'موبایل',\n 79: 'می',\n 80: 'میخری',\n 81: 'میخرید',\n 82: 'میخرین',\n 83: 'میخواستم',\n 84: 'میخوام',\n 85: 'میشم',\n 86: 'میلیارد',\n 87: 'میلیاردی',\n 88: 'میلیون',\n 89: 'میلیونی',\n 90: 'میکنم',\n 91: 'میکنی',\n 92: 'میکنید',\n 93: 'میکنین',\n 94: 'میگیری',\n 95: 'میگیرید',\n 96: 'میگیرین',\n 97: 'هزار',\n 98: 'هزاری',\n 99: 'همراه',\n 100: 'واس',\n 101: 'واسم',\n 102: 'واسه',\n 103: 'واسهم',\n 104: 'وسیله',\n 105: 'کارت',\n 106: 'کانتکت',\n 107: 'کانتکتام',\n 108: 'کانتکم',\n 109: 'کن',\n 110: 'کنم',\n 111: 'کنی',\n 112: 'کنید',\n 113: 'کنین',\n 114: 'گوشی',\n 115: 'گیری',\n 116: 'گیرید',\n 117: 'گیرین',\n 118: 'یه',\n 252: '7656558147458017'}"
     },
     "execution_count": 20,
     "metadata": {},
     "output_type": "execute_result"
    }
   ],
   "source": [
    "x_tokenizer.index_to_word"
   ],
   "metadata": {
    "collapsed": false,
    "pycharm": {
     "name": "#%%\n"
    }
   }
  },
  {
   "cell_type": "code",
   "execution_count": 33,
   "outputs": [
    {
     "name": "stdout",
     "output_type": "stream",
     "text": [
      "trg_tensor torch.Size([1, 1])\n",
      "output torch.Size([1, 1, 300])\n",
      "output.argmax(2) torch.Size([1, 1])\n",
      "trg_tensor torch.Size([1, 2])\n",
      "output torch.Size([1, 2, 300])\n",
      "output.argmax(2) torch.Size([1, 2])\n",
      "trg_tensor torch.Size([1, 3])\n",
      "output torch.Size([1, 3, 300])\n",
      "output.argmax(2) torch.Size([1, 3])\n",
      "trg_tensor torch.Size([1, 4])\n",
      "output torch.Size([1, 4, 300])\n",
      "output.argmax(2) torch.Size([1, 4])\n",
      "trg_tensor torch.Size([1, 5])\n",
      "output torch.Size([1, 5, 300])\n",
      "output.argmax(2) torch.Size([1, 5])\n",
      "trg_tensor torch.Size([1, 6])\n",
      "output torch.Size([1, 6, 300])\n",
      "output.argmax(2) torch.Size([1, 6])\n",
      "trg_tensor torch.Size([1, 7])\n",
      "output torch.Size([1, 7, 300])\n",
      "output.argmax(2) torch.Size([1, 7])\n",
      "trg_tensor torch.Size([1, 8])\n",
      "output torch.Size([1, 8, 300])\n",
      "output.argmax(2) torch.Size([1, 8])\n",
      "trg_tensor torch.Size([1, 9])\n",
      "output torch.Size([1, 9, 300])\n",
      "output.argmax(2) torch.Size([1, 9])\n",
      "trg_tensor torch.Size([1, 10])\n",
      "output torch.Size([1, 10, 300])\n",
      "output.argmax(2) torch.Size([1, 10])\n",
      "trg_tensor torch.Size([1, 11])\n",
      "output torch.Size([1, 11, 300])\n",
      "output.argmax(2) torch.Size([1, 11])\n",
      "trg_tensor torch.Size([1, 12])\n",
      "output torch.Size([1, 12, 300])\n",
      "output.argmax(2) torch.Size([1, 12])\n",
      "trg_tensor torch.Size([1, 13])\n",
      "output torch.Size([1, 13, 300])\n",
      "output.argmax(2) torch.Size([1, 13])\n",
      "trg_tensor torch.Size([1, 14])\n",
      "output torch.Size([1, 14, 300])\n",
      "output.argmax(2) torch.Size([1, 14])\n",
      "trg_tensor torch.Size([1, 15])\n",
      "output torch.Size([1, 15, 300])\n",
      "output.argmax(2) torch.Size([1, 15])\n",
      "trg_tensor torch.Size([1, 16])\n",
      "output torch.Size([1, 16, 300])\n",
      "output.argmax(2) torch.Size([1, 16])\n",
      "trg_tensor torch.Size([1, 17])\n",
      "output torch.Size([1, 17, 300])\n",
      "output.argmax(2) torch.Size([1, 17])\n",
      "trg_tensor torch.Size([1, 18])\n",
      "output torch.Size([1, 18, 300])\n",
      "output.argmax(2) torch.Size([1, 18])\n",
      "trg_tensor torch.Size([1, 19])\n",
      "output torch.Size([1, 19, 300])\n",
      "output.argmax(2) torch.Size([1, 19])\n",
      "trg_tensor torch.Size([1, 20])\n",
      "output torch.Size([1, 20, 300])\n",
      "output.argmax(2) torch.Size([1, 20])\n",
      "trg_tensor torch.Size([1, 21])\n",
      "output torch.Size([1, 21, 300])\n",
      "output.argmax(2) torch.Size([1, 21])\n",
      "trg_tensor torch.Size([1, 22])\n",
      "output torch.Size([1, 22, 300])\n",
      "output.argmax(2) torch.Size([1, 22])\n",
      "trg_tensor torch.Size([1, 23])\n",
      "output torch.Size([1, 23, 300])\n",
      "output.argmax(2) torch.Size([1, 23])\n",
      "trg_tensor torch.Size([1, 24])\n",
      "output torch.Size([1, 24, 300])\n",
      "output.argmax(2) torch.Size([1, 24])\n",
      "trg_tensor torch.Size([1, 25])\n",
      "output torch.Size([1, 25, 300])\n",
      "output.argmax(2) torch.Size([1, 25])\n",
      "trg_tensor torch.Size([1, 26])\n",
      "output torch.Size([1, 26, 300])\n",
      "output.argmax(2) torch.Size([1, 26])\n",
      "trg_tensor torch.Size([1, 27])\n",
      "output torch.Size([1, 27, 300])\n",
      "output.argmax(2) torch.Size([1, 27])\n",
      "trg_tensor torch.Size([1, 28])\n",
      "output torch.Size([1, 28, 300])\n",
      "output.argmax(2) torch.Size([1, 28])\n",
      "trg_tensor torch.Size([1, 29])\n",
      "output torch.Size([1, 29, 300])\n",
      "output.argmax(2) torch.Size([1, 29])\n",
      "trg_tensor torch.Size([1, 30])\n",
      "output torch.Size([1, 30, 300])\n",
      "output.argmax(2) torch.Size([1, 30])\n",
      "trg_tensor torch.Size([1, 31])\n",
      "output torch.Size([1, 31, 300])\n",
      "output.argmax(2) torch.Size([1, 31])\n",
      "trg_tensor torch.Size([1, 32])\n",
      "output torch.Size([1, 32, 300])\n",
      "output.argmax(2) torch.Size([1, 32])\n",
      "trg_tensor torch.Size([1, 33])\n",
      "output torch.Size([1, 33, 300])\n",
      "output.argmax(2) torch.Size([1, 33])\n",
      "trg_tensor torch.Size([1, 34])\n",
      "output torch.Size([1, 34, 300])\n",
      "output.argmax(2) torch.Size([1, 34])\n",
      "trg_tensor torch.Size([1, 35])\n",
      "output torch.Size([1, 35, 300])\n",
      "output.argmax(2) torch.Size([1, 35])\n",
      "trg_tensor torch.Size([1, 36])\n",
      "output torch.Size([1, 36, 300])\n",
      "output.argmax(2) torch.Size([1, 36])\n",
      "trg_tensor torch.Size([1, 37])\n",
      "output torch.Size([1, 37, 300])\n",
      "output.argmax(2) torch.Size([1, 37])\n",
      "trg_tensor torch.Size([1, 38])\n",
      "output torch.Size([1, 38, 300])\n",
      "output.argmax(2) torch.Size([1, 38])\n",
      "trg_tensor torch.Size([1, 39])\n",
      "output torch.Size([1, 39, 300])\n",
      "output.argmax(2) torch.Size([1, 39])\n",
      "trg_tensor torch.Size([1, 40])\n",
      "output torch.Size([1, 40, 300])\n",
      "output.argmax(2) torch.Size([1, 40])\n",
      "trg_tensor torch.Size([1, 41])\n",
      "output torch.Size([1, 41, 300])\n",
      "output.argmax(2) torch.Size([1, 41])\n",
      "trg_tensor torch.Size([1, 42])\n",
      "output torch.Size([1, 42, 300])\n",
      "output.argmax(2) torch.Size([1, 42])\n",
      "trg_tensor torch.Size([1, 43])\n",
      "output torch.Size([1, 43, 300])\n",
      "output.argmax(2) torch.Size([1, 43])\n",
      "trg_tensor torch.Size([1, 44])\n",
      "output torch.Size([1, 44, 300])\n",
      "output.argmax(2) torch.Size([1, 44])\n",
      "trg_tensor torch.Size([1, 45])\n",
      "output torch.Size([1, 45, 300])\n",
      "output.argmax(2) torch.Size([1, 45])\n",
      "predicted trg = ['OOV', 'OOV', 'OOV', 'OOV', 'OOV', 'OOV', 'OOV', 'OOV', 'OOV', 'OOV', 'OOV', 'OOV', 'bnumber', 'bnumber_post', 'bnumber_post', 'OOV', 'OOV', 'OOV', 'OOV', 'OOV', 'OOV', 'OOV', 'OOV', 'OOV', 'OOV', 'OOV', 'OOV', 'OOV', 'OOV', 'OOV', 'OOV', 'OOV', 'OOV', 'OOV', 'OOV', 'OOV', 'OOV', 'OOV', 'OOV', 'OOV', 'OOV', 'OOV', 'OOV', 'OOV', 'OOV']\n"
     ]
    }
   ],
   "source": [
    "sentence = \"عشقم واسم یه شارژ 5 تومنی اینترنت ایرانسل میگیری برام فدات شم\"\n",
    "translation, attention = find_slots_from(sentence, convs2s, x_tokenizer, y_tokenizer, DEVICE)\n",
    "print(f'predicted trg = {translation}')\n",
    "# display_attention(sentence, translation, attention)"
   ],
   "metadata": {
    "collapsed": false,
    "pycharm": {
     "name": "#%%\n"
    }
   }
  },
  {
   "cell_type": "code",
   "execution_count": 1,
   "outputs": [
    {
     "ename": "NameError",
     "evalue": "name 'sentence' is not defined",
     "output_type": "error",
     "traceback": [
      "\u001B[1;31m---------------------------------------------------------------------------\u001B[0m",
      "\u001B[1;31mNameError\u001B[0m                                 Traceback (most recent call last)",
      "Input \u001B[1;32mIn [1]\u001B[0m, in \u001B[0;36m<cell line: 1>\u001B[1;34m()\u001B[0m\n\u001B[1;32m----> 1\u001B[0m \u001B[38;5;28mlen\u001B[39m(\u001B[43msentence\u001B[49m\u001B[38;5;241m.\u001B[39msplit(\u001B[38;5;124m\"\u001B[39m\u001B[38;5;124m \u001B[39m\u001B[38;5;124m\"\u001B[39m))\n",
      "\u001B[1;31mNameError\u001B[0m: name 'sentence' is not defined"
     ]
    }
   ],
   "source": [
    "len(sentence.split(\" \"))"
   ],
   "metadata": {
    "collapsed": false,
    "pycharm": {
     "name": "#%%\n"
    }
   }
  },
  {
   "cell_type": "code",
   "execution_count": 8,
   "outputs": [
    {
     "data": {
      "text/plain": "(11, 9)"
     },
     "execution_count": 8,
     "metadata": {},
     "output_type": "execute_result"
    }
   ],
   "source": [
    "\n",
    "attention.squeeze(0).cpu().detach().numpy()\n"
   ],
   "metadata": {
    "collapsed": false,
    "pycharm": {
     "name": "#%%\n"
    }
   }
  },
  {
   "cell_type": "code",
   "execution_count": 15,
   "outputs": [
    {
     "name": "stderr",
     "output_type": "stream",
     "text": [
      "C:\\Users\\Atlas\\AppData\\Local\\Temp\\ipykernel_11228\\1428909718.py:7: UserWarning: FixedFormatter should only be used together with FixedLocator\n",
      "  ax.set_xticklabels(['']+['<sos>']+[t for t in ssentence]+['<eos>'],\n",
      "C:\\Users\\Atlas\\AppData\\Local\\Temp\\ipykernel_11228\\1428909718.py:9: UserWarning: FixedFormatter should only be used together with FixedLocator\n",
      "  ax.set_yticklabels(['']+translation)\n"
     ]
    },
    {
     "data": {
      "text/plain": "<Figure size 576x576 with 1 Axes>",
      "image/png": "[encoded data removed]"
     },
     "metadata": {
      "needs_background": "light"
     },
     "output_type": "display_data"
    }
   ],
   "source": [
    "import matplotlib.pyplot as plt\n",
    "fig, ax = plt.subplots(figsize=(8,8))\n",
    "ssentence = sentence.strip().split(\" \")\n",
    "nattention = attention.squeeze(0).cpu().detach().numpy()\n",
    "cax = ax.matshow(nattention, cmap='bone')\n",
    "ax.tick_params(labelsize=15)\n",
    "ax.set_xticklabels(['']+['<sos>']+[t for t in ssentence]+['<eos>'],\n",
    "                   rotation=45)\n",
    "ax.set_yticklabels(['']+translation)\n",
    "\n",
    "ax.xaxis.set_major_locator(ticker.MultipleLocator(1))\n",
    "ax.yaxis.set_major_locator(ticker.MultipleLocator(1))\n",
    "\n",
    "plt.show()\n",
    "plt.close()"
   ],
   "metadata": {
    "collapsed": false,
    "pycharm": {
     "name": "#%%\n"
    }
   }
  },
  {
   "cell_type": "code",
   "execution_count": null,
   "outputs": [],
   "source": [],
   "metadata": {
    "collapsed": false,
    "pycharm": {
     "name": "#%%\n"
    }
   }
  }
 ],
 "metadata": {
  "kernelspec": {
   "display_name": "Python 3",
   "language": "python",
   "name": "python3"
  },
  "language_info": {
   "codemirror_mode": {
    "name": "ipython",
    "version": 2
   },
   "file_extension": ".py",
   "mimetype": "text/x-python",
   "name": "python",
   "nbconvert_exporter": "python",
   "pygments_lexer": "ipython2",
   "version": "2.7.6"
  }
 },
 "nbformat": 4,
 "nbformat_minor": 0
}