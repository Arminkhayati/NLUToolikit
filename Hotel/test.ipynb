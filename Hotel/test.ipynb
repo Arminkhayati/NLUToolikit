{
 "cells": [
  {
   "cell_type": "code",
   "execution_count": 2,
   "metadata": {
    "collapsed": true,
    "pycharm": {
     "name": "#%%\n"
    }
   },
   "outputs": [],
   "source": [
    "import pandas as pd\n",
    "import numpy as np\n",
    "import tensorflow as tf\n",
    "from sklearn.model_selection import train_test_split\n",
    "# from tensorflow.keras.preprocessing.text import Tokenizer\n",
    "from tensorflow.keras.preprocessing.sequence import pad_sequences\n",
    "from tensorflow.keras import utils\n",
    "from tensorflow.keras import regularizers\n",
    "from tensorflow.keras.models import Sequential, Model\n",
    "from tensorflow.keras.layers import BatchNormalization, LayerNormalization, Embedding, LSTM, GRU, Dense, Bidirectional, TimeDistributed, Input, Dropout\n",
    "from tensorflow.keras.metrics import Precision, Recall\n",
    "from tensorflow.keras.optimizers import Adam\n",
    "from tensorflow.keras.callbacks import ReduceLROnPlateau, ModelCheckpoint, EarlyStopping, TensorBoard, LambdaCallback\n",
    "import pandas as pd\n",
    "import numpy as np\n",
    "import re\n",
    "import itertools\n",
    "import random\n",
    "# from keras_nlp.layers import PositionEmbedding, TokenAndPositionEmbedding\n",
    "import slot_util as su\n",
    "import sentence_from_template as sft\n",
    "from tokenizer import Tokenizer\n",
    "from data_generator import DataGenerator\n",
    "import pickle\n"
   ]
  },
  {
   "cell_type": "code",
   "execution_count": null,
   "outputs": [],
   "source": [
    "# slots: num_room, time, time_unit, num_bed, num_person, person_unit, hotel_name, hotel_city,\n",
    "# slots: person_unit_post, hotel_name_post, hotel_city_post\n",
    "\"''''''''''''''''''''''''''''''''''''''''''''''''''''''''''''''''''''''''''''''''''''''''''''''''''''\"\n",
    "# Fillers: for, me, for_me, from, verb, please, in, bed_unit\n",
    "\"''''''''''''''''''''''''''''''''''''''''''''''''''''''''''''''''''''''''''''''''''''''''''''''''''''\"\n",
    "# {} {} {} {} {} {} {} {} {} {} {} {} {} {} {} {} {} {} {} {} {} {}\n",
    "\"''''''''''''''''''''''''''''''''''''''''''''''''''''''''''''''''''''''''''''''''''''''''''''''''''''\"\n",
    "# {num_room} {time}\n",
    "# {time_unit} {num_bed}\n",
    "# {num_person} {person_unit}\n",
    "# {hotel_name} {hotel_city}\n",
    "\"''''''''''''''''''''''''''''''''''''''''''''''''''''''''''''''''''''''''''''''''''''''''''''''''''''\"\n",
    "# {verb} {for}\n",
    "# {for_{me}} {me}\n",
    "# {from} {please}\n",
    "# {in} {bed_unit}\n"
   ],
   "metadata": {
    "collapsed": false,
    "pycharm": {
     "name": "#%%\n"
    }
   }
  },
  {
   "cell_type": "code",
   "execution_count": 27,
   "outputs": [],
   "source": [
    "# TRAINING  PARAMETERS\n",
    "BATCH_SIZE = 32\n",
    "steps_per_epoch=5000\n",
    "validation_steps=3000\n",
    "EPOCHS = 3\n",
    "\n",
    "# EMBEDDING  PARAMETERS\n",
    "NUM_WORDS = 300\n",
    "MAX_SEQ_LEN = 45\n",
    "EMBEDDING_DIM = 300\n",
    "VOCAB_SIZE = NUM_WORDS + 50\n",
    "\n",
    "\n",
    "# ENCODER/RNN  PARAMETERS\n",
    "INTERMEDIATE_DIM = 200\n",
    "NUM_HEADS = 2\n",
    "NUM_UNITS = 150"
   ],
   "metadata": {
    "collapsed": false,
    "pycharm": {
     "name": "#%%\n"
    }
   }
  },
  {
   "cell_type": "code",
   "execution_count": 10,
   "outputs": [
    {
     "name": "stdout",
     "output_type": "stream",
     "text": [
      "72 total templates\n",
      "58 training templates\n",
      "14 validation templates\n",
      "0 test templates\n"
     ]
    }
   ],
   "source": [
    "TEST_SET = False\n",
    "SPLIT = 0.2\n",
    "with open(\"Hotel.txt\", encoding='utf-8') as f:\n",
    "    templates = f.readlines()\n",
    "    templates = [line.strip().split(\" \") for line in templates]\n",
    "\n",
    "random.shuffle(templates)\n",
    "num_val_samples = int(SPLIT * len(templates))\n",
    "if TEST_SET:\n",
    "    num_train_samples = len(templates) - 2 * num_val_samples\n",
    "    train_templates = templates[:num_train_samples]\n",
    "    val_templates = templates[num_train_samples : num_train_samples + num_val_samples]\n",
    "    test_templates = templates[num_train_samples + num_val_samples :]\n",
    "else:\n",
    "    num_train_samples = len(templates) - num_val_samples\n",
    "    train_templates = templates[:num_train_samples]\n",
    "    val_templates = templates[num_train_samples : num_train_samples + num_val_samples]\n",
    "    test_templates = []\n",
    "\n",
    "\n",
    "print(f\"{len(templates)} total templates\")\n",
    "print(f\"{len(train_templates)} training templates\")\n",
    "print(f\"{len(val_templates)} validation templates\")\n",
    "print(f\"{len(test_templates)} test templates\")\n",
    "\n",
    "\n",
    "# Uncomment if you want to load saved splited templates\n",
    "# with open(\"train_data.pickle\", \"rb\") as f:\n",
    "#     train_templates = pickle.load(f)\n",
    "# with open(\"validation_data.pickle\", \"rb\") as f:\n",
    "#     val_templates = pickle.load(f)\n",
    "# if TEST_SET:\n",
    "#     with open(\"test_data.pickle\", \"rb\") as f:\n",
    "#         test_templates = pickle.load(f)"
   ],
   "metadata": {
    "collapsed": false,
    "pycharm": {
     "name": "#%%\n"
    }
   }
  },
  {
   "cell_type": "code",
   "execution_count": 4,
   "outputs": [
    {
     "name": "stdout",
     "output_type": "stream",
     "text": [
      "['{in}', 'هتل', '{hotel_name}']\n",
      "['برو', '{for_{me}}', 'توی', 'شهر', '{hotel_city}', '{for}', '{time}', '{time_unit}', 'اتاق', '{num_bed}', '{bed_unit}', '{in}', 'هتل', '{hotel_name}', '{verb}']\n"
     ]
    }
   ],
   "source": [
    "for t in val_templates[:2]:\n",
    "    print(t)"
   ],
   "metadata": {
    "collapsed": false,
    "pycharm": {
     "name": "#%%\n"
    }
   }
  },
  {
   "cell_type": "code",
   "execution_count": 28,
   "outputs": [
    {
     "name": "stdout",
     "output_type": "stream",
     "text": [
      "all words length =  123\n"
     ]
    }
   ],
   "source": [
    "x_tokenizer = Tokenizer(num_words=NUM_WORDS, max_seq_len=MAX_SEQ_LEN,\n",
    "                        for_sentence=True, sos=False, eos=False)\n",
    "y_tokenizer = Tokenizer(num_words=NUM_WORDS, max_seq_len=MAX_SEQ_LEN,\n",
    "                        for_sentence=False, sos=False, eos=False)\n",
    "\n",
    "train_data_gen = DataGenerator(train_templates,\n",
    "                               x_tokenizer, y_tokenizer,\n",
    "                               BATCH_SIZE, steps_per_epoch,\n",
    "                               aug_percent=0.0, max_seq_len=MAX_SEQ_LEN)\n",
    "\n",
    "val_data_gen = DataGenerator(val_templates,\n",
    "                             x_tokenizer, y_tokenizer,\n",
    "                             BATCH_SIZE, validation_steps,\n",
    "                             aug_percent=0.0, max_seq_len=MAX_SEQ_LEN)\n",
    "if TEST_SET:\n",
    "    test_data_gen = DataGenerator(test_templates,\n",
    "                                  x_tokenizer, y_tokenizer,\n",
    "                                  BATCH_SIZE, validation_steps,\n",
    "                                  aug_percent=0.0, max_seq_len=MAX_SEQ_LEN)\n",
    "\n",
    "Y_VOCAB_SIZE = len(y_tokenizer.word_to_index)"
   ],
   "metadata": {
    "collapsed": false,
    "pycharm": {
     "name": "#%%\n"
    }
   }
  },
  {
   "cell_type": "code",
   "execution_count": 29,
   "outputs": [],
   "source": [
    "\n",
    "for _ in range(1000):\n",
    "    X, y = train_data_gen.__getitem__(0)"
   ],
   "metadata": {
    "collapsed": false,
    "pycharm": {
     "name": "#%%\n"
    }
   }
  },
  {
   "cell_type": "code",
   "execution_count": 30,
   "outputs": [
    {
     "data": {
      "text/plain": "array([[302,  75, 302, ...,   0,   0,   0],\n       [108, 302, 302, ...,   0,   0,   0],\n       [ 40, 108, 302, ...,   0,   0,   0],\n       ...,\n       [111,  84,  39, ...,   0,   0,   0],\n       [302,   4,  71, ...,   0,   0,   0],\n       [168,   4,   0, ...,   0,   0,   0]])"
     },
     "execution_count": 30,
     "metadata": {},
     "output_type": "execute_result"
    }
   ],
   "source": [
    "X"
   ],
   "metadata": {
    "collapsed": false,
    "pycharm": {
     "name": "#%%\n"
    }
   }
  },
  {
   "cell_type": "code",
   "execution_count": 31,
   "outputs": [
    {
     "data": {
      "text/plain": "['هتل',\n 'جبظخفظثدوو',\n 'جبظخفظثدوو',\n 'جبظخفظثدوو',\n 'جبظخفظثدوو',\n 'شهر',\n 'جبظخفظثدوو',\n 'جبظخفظثدوو',\n 'جبظخفظثدوو']"
     },
     "execution_count": 31,
     "metadata": {},
     "output_type": "execute_result"
    }
   ],
   "source": [
    "x_tokenizer.seq_to_words(X[6])"
   ],
   "metadata": {
    "collapsed": false,
    "pycharm": {
     "name": "#%%\n"
    }
   }
  },
  {
   "cell_type": "code",
   "execution_count": 26,
   "outputs": [
    {
     "name": "stdout",
     "output_type": "stream",
     "text": [
      "['{for}', '{num_person}', '{person_unit}', 'و', '{num_person}', '{person_unit}', 'و', '{time}', '{time_unit}', 'و', '{time}', '{time_unit}', '{in}', 'هتل', '{hotel_name}', 'شهر', '{hotel_city}', 'اتاق', '{verb}', '{for_{me}}']\n",
      "['{from}', 'هتل', '{hotel_name}', '{in}', 'شهر', '{hotel_city}', '{for}', '{time}', '{time_unit}', 'و', '{time}', '{time_unit}', '{num_room}', 'اتاق', '{num_bed}', '{bed_unit}', '{verb}']\n",
      "['یه', 'اتاق', '{num_person}', '{person_unit}', '{in}', 'شهر', '{hotel_city}', 'هتل', '{hotel_name}', '{verb}']\n",
      "['{num_room}', 'اتاق', '{in}', 'هتل', '{hotel_name}', '{for}', '{num_person}', '{person_unit}', 'و', '{time}', '{time_unit}', 'شهر', '{hotel_city}', '{verb}']\n",
      "['{for_{me}}', 'توی', 'شهر', '{hotel_city}', 'اتاق', '{num_bed}', '{bed_unit}', '{verb}']\n",
      "['{num_room}', 'اتاق']\n",
      "['هتل', '{hotel_name}', '{for}', '{time}', '{time_unit}', '{in}', 'شهر', '{hotel_city}', '{for_{me}}', 'اتاق', '{verb}']\n",
      "['{num_room}', 'اتاق', '{in}', 'هتل', '{hotel_name}', 'شهر', '{hotel_city}', '{for}', '{num_person}', '{person_unit}', 'به', 'مدت', '{time}', '{time_unit}', '{verb}', '{please}']\n",
      "['{num_room}', 'اتاق', 'با', '{num_bed}', '{bed_unit}', '{for}', '{time}', '{time_unit}', '{verb}']\n",
      "['{for}', 'مدت', '{time}', '{time_unit}', 'شهر', '{hotel_city}', '{in}', 'هتل', '{hotel_name}', 'اتاق', '{num_bed}', '{bed_unit}', '{verb}']\n",
      "['{for}', '{time}', '{time_unit}', 'و', '{time}', '{time_unit}', 'و', '{num_person}', '{person_unit}', 'و', '{num_person}', '{person_unit}', '{in}', 'هتل', '{hotel_name}', 'اتاق', '{verb}', '{for_{me}}']\n",
      "['{for}', '{num_person}', '{person_unit}', 'و', '{num_person}', '{person_unit}', 'و', '{time}', '{time_unit}', 'و', '{time}', '{time_unit}', '{in}', 'هتل', '{hotel_name}', 'اتاق', '{verb}', '{for_{me}}']\n",
      "['{please}', '{num_room}', 'اتاق', '{num_person}', '{person_unit}', '{in}', 'هتل', '{hotel_name}', '{in}', 'شهر', '{hotel_city}', 'رو', 'به', 'مدت', '{time}', '{time_unit}', 'و', '{time}', '{time_unit}', '{for_{me}}', '{verb}']\n",
      "['{for_{me}}', '{in}', 'هتل', '{hotel_name}', '{in}', 'شهر', '{hotel_city}', '{for}', '{time}', '{time_unit}', 'و', '{time}', '{time_unit}', 'اتاق', '{num_person}', '{person_unit}']\n",
      "['{in}', 'شهر', '{hotel_city}']\n",
      "['{verb}', 'هتل', '{hotel_name}', '{for}', '{time}', '{time_unit}']\n",
      "['{num_room}', 'اتاق', '{for}', 'چند', 'روز', '{in}', 'هتل', '{hotel_name}', 'شهر', '{hotel_city}', '{verb}']\n",
      "['{num_room}', 'اتاق', '{in}', 'هتل', '{hotel_name}', '{in}', 'شهر', '{hotel_city}', '{for}', '{num_person}', '{person_unit}', 'به', 'مدت', '{time}', '{time_unit}', 'و', '{time}', '{time_unit}', '{verb}', '{please}']\n",
      "['{in}', 'شهر', '{hotel_city}', 'هتل', '{hotel_name}', '{for_{me}}', '{num_person}', '{person_unit}', '{verb}']\n",
      "['{from}', 'هتل', '{hotel_name}', 'شهر', '{hotel_city}', '{for}', '{time}', '{time_unit}', 'و', '{time}', '{time_unit}', '{num_room}', 'تا', 'اتاق', '{num_person}', '{person_unit}', '{verb}']\n",
      "['{num_bed}', '{bed_unit}']\n",
      "['{for}', '{time}', '{time_unit}', 'و', '{time}', '{time_unit}', '{num_room}', 'تا', 'اتاق', '{verb}']\n",
      "['{for_{me}}', 'توی', 'هتل', '{hotel_name}', 'شهر', '{hotel_city}', 'اتاق', '{num_bed}', '{bed_unit}', '{verb}']\n",
      "['برو', '{for_{me}}', 'توی', 'شهر', '{hotel_city}', '{for}', '{time}', '{time_unit}', 'و', '{time}', '{time_unit}', '{num_room}', 'اتاق', '{num_bed}', '{bed_unit}', '{in}', 'هتل', '{hotel_name}', '{verb}']\n",
      "['{in}', 'هتل', '{hotel_name}', '{in}', 'شهر', '{hotel_city}', '{for}', '{num_person}', '{person_unit}', 'و', '{num_person}', '{person_unit}', '{num_room}', 'اتاق', '{verb}']\n",
      "['شهر', '{hotel_city}']\n",
      "['{num_room}', 'اتاق', '{num_bed}', '{bed_unit}', '{verb}']\n",
      "['{num_room}', 'تا', 'اتاق', '{in}', 'هتل', '{hotel_name}', '{for}', '{num_person}', '{person_unit}', 'و', '{time}', '{time_unit}', '{verb}']\n",
      "['{in}', 'شهر', '{hotel_city}', '{num_room}', 'اتاق', '{num_bed}', '{bed_unit}', '{in}', 'هتل', '{hotel_name}', '{for}', '{time}', '{time_unit}', 'اتاق', '{verb}']\n",
      "['{num_room}', 'اتاق', '{in}', 'هتل', '{hotel_name}', '{for}', '{num_person}', '{person_unit}', 'و', '{time}', '{time_unit}', '{verb}']\n",
      "['{for}', '{time}', '{time_unit}', 'و', '{time}', '{time_unit}', 'و', '{num_person}', '{person_unit}', 'و', '{num_person}', '{person_unit}', '{in}', 'هتل', '{hotel_name}', '{in}', 'شهر', '{hotel_city}', 'اتاق', '{verb}', '{for_{me}}']\n",
      "['{for}', '{num_person}', '{person_unit}', 'شهر', '{hotel_city}', 'هتل', '{hotel_name}', '{verb}']\n",
      "['{in}', 'شهر', '{hotel_city}', '{num_bed}', '{bed_unit}', '{in}', 'هتل', '{hotel_name}', '{for}', '{time}', '{time_unit}', 'اتاق', '{verb}']\n",
      "['{in}', 'هتل', '{hotel_name}']\n",
      "['هتل', '{hotel_name}', '{in}', 'شهر', '{hotel_city}']\n",
      "['{num_room}', 'تا', 'اتاق', '{for}', 'چند', 'روز', '{in}', 'هتل', '{hotel_name}', '{in}', 'شهر', '{hotel_city}', '{verb}']\n",
      "['{from}', 'هتل', '{hotel_name}', '{in}', 'شهر', '{hotel_city}', '{for}', '{time}', '{time_unit}', 'و', '{time}', '{time_unit}', '{num_room}', 'تا', 'اتاق', '{num_bed}', '{bed_unit}', '{verb}']\n",
      "['برو', '{for_{me}}', 'توی', 'شهر', '{hotel_city}', '{for}', '{time}', '{time_unit}', 'اتاق', '{num_bed}', '{bed_unit}', '{in}', 'هتل', '{hotel_name}', '{verb}']\n",
      "['{num_room}', 'اتاق', 'شهر', '{hotel_city}', 'با', '{num_bed}', '{bed_unit}', '{in}', 'هتل', '{hotel_name}', '{for}', '{time}', '{time_unit}', 'و', '{time}', '{time_unit}', '{for_{me}}', '{verb}']\n",
      "['{verb}', '{num_bed}', '{bed_unit}', '{num_room}', 'اتاق', 'تو', 'شهر', '{hotel_city}', 'هتل', '{hotel_name}']\n",
      "['{for}', 'یه', '{time}', '{time_unit}', 'و', '{time}', '{time_unit}', '{in}', 'هتل', '{hotel_name}', 'اتاق', '{verb}']\n",
      "['{num_room}', 'اتاق', '{num_bed}', '{bed_unit}', '{for}', '{time}', '{time_unit}', '{verb}']\n",
      "['{for_{me}}', '{in}', 'هتل', '{hotel_name}', '{in}', 'شهر', '{hotel_city}']\n",
      "['برو', '{for_{me}}', 'توی', 'شهر', '{hotel_city}', '{for}', '{time}', '{time_unit}', '{num_room}', 'اتاق', '{num_bed}', '{bed_unit}', '{in}', 'هتل', '{hotel_name}', '{verb}']\n",
      "['برو', '{for_{me}}', 'توی', 'هتل', '{hotel_name}', '{for}', '{time}', '{time_unit}', 'و', '{time}', '{time_unit}', 'اتاق', '{num_bed}', '{bed_unit}', '{in}', 'شهر', '{hotel_city}', '{verb}']\n",
      "['{for_{me}}', 'توی', 'شهر', '{hotel_city}', 'اتاق', '{num_person}', '{person_unit}', '{verb}']\n",
      "['{num_room}', 'تا', 'اتاق', '{in}', 'هتل', '{hotel_name}', '{for}', '{num_person}', '{person_unit}', 'و', '{time}', '{time_unit}', '{in}', 'شهر', '{hotel_city}', '{verb}']\n",
      "['{num_room}', 'اتاق', '{in}', 'شهر', '{hotel_city}', 'هتل', '{hotel_name}', 'با', '{num_bed}', '{bed_unit}', '{for}', '{time}', '{time_unit}', 'و', '{time}', '{time_unit}', '{for_{me}}', '{verb}']\n",
      "['{num_room}', 'تا', 'اتاق', '{num_bed}', '{bed_unit}', '{for}', '{time}', '{time_unit}', '{verb}']\n",
      "['هتل', '{hotel_name}', 'شهر', '{hotel_city}']\n",
      "['{please}', '{num_room}', 'تا', 'اتاق', '{num_person}', '{person_unit}', '{in}', 'هتل', '{hotel_name}', '{in}', '{hotel_city}', 'رو', 'به', 'مدت', '{time}', '{time_unit}', 'و', '{time}', '{time_unit}', '{for_{me}}', '{verb}']\n",
      "['{num_room}', 'تا', 'اتاق', '{in}', 'هتل', '{hotel_name}', 'شهر', '{hotel_city}', '{for}', '{num_person}', '{person_unit}', 'به', 'مدت', '{time}', '{time_unit}', 'و', '{time}', '{time_unit}', '{verb}', '{please}']\n",
      "['{from}', 'هتل', '{hotel_name}', 'شهر', '{hotel_city}', '{for}', '{time}', '{time_unit}', 'و', '{time}', '{time_unit}', '{num_room}', 'اتاق', '{num_person}', '{person_unit}', '{verb}']\n",
      "['{for_{me}}', 'هتل', '{hotel_name}', 'اتاق', '{verb}']\n",
      "['برا', '{time}', '{time_unit}', 'و', '{time}', '{time_unit}', '{num_room}', 'اتاق', '{verb}']\n",
      "['{for_{me}}', '{in}', 'هتل', '{hotel_name}', '{in}', 'شهر', '{hotel_city}', '{for}', '{time}', '{time_unit}']\n",
      "['{in}', 'هتل', '{hotel_name}', 'شهر', '{hotel_city}', '{for}', '{num_person}', '{person_unit}', 'و', '{num_person}', '{person_unit}', '{num_room}', 'اتاق', '{verb}']\n",
      "['{time}', '{time_unit}']\n"
     ]
    }
   ],
   "source": [
    "for t in train_templates:\n",
    "    print(t)"
   ],
   "metadata": {
    "collapsed": false,
    "pycharm": {
     "name": "#%%\n"
    }
   }
  },
  {
   "cell_type": "code",
   "execution_count": null,
   "outputs": [],
   "source": [],
   "metadata": {
    "collapsed": false,
    "pycharm": {
     "name": "#%%\n"
    }
   }
  }
 ],
 "metadata": {
  "kernelspec": {
   "display_name": "Python 3",
   "language": "python",
   "name": "python3"
  },
  "language_info": {
   "codemirror_mode": {
    "name": "ipython",
    "version": 2
   },
   "file_extension": ".py",
   "mimetype": "text/x-python",
   "name": "python",
   "nbconvert_exporter": "python",
   "pygments_lexer": "ipython2",
   "version": "2.7.6"
  }
 },
 "nbformat": 4,
 "nbformat_minor": 0
}