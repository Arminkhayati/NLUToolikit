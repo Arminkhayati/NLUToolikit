{
 "cells": [
  {
   "cell_type": "code",
   "execution_count": 8,
   "metadata": {
    "collapsed": true,
    "pycharm": {
     "name": "#%%\n"
    }
   },
   "outputs": [],
   "source": [
    "from charge_dataset import ChargeDataset\n",
    "import random\n",
    "from tokenizer import Tokenizer\n",
    "import torch\n",
    "from torch.utils.data import DataLoader\n",
    "from torch.nn.utils.rnn import pad_sequence\n",
    "from utils import load_conf"
   ]
  },
  {
   "cell_type": "code",
   "execution_count": 11,
   "outputs": [],
   "source": [
    "from utils import load_conf\n",
    "# load configurations\n",
    "CONF = load_conf()\n",
    "# add special characters to config\n",
    "CONF[\"special_tokens\"] = {\n",
    "    CONF[\"unk_token\"]: 0,\n",
    "    CONF[\"pad_token\"]: 1,\n",
    "    CONF[\"sos_token\"]: 2,\n",
    "    CONF[\"eos_token\"]: 3,\n",
    "}"
   ],
   "metadata": {
    "collapsed": false,
    "pycharm": {
     "name": "#%%\n"
    }
   }
  },
  {
   "cell_type": "code",
   "execution_count": 2,
   "outputs": [
    {
     "name": "stdout",
     "output_type": "stream",
     "text": [
      "67 total templates\n",
      "61 training templates\n",
      "6 validation templates\n",
      "0 test templates\n"
     ]
    }
   ],
   "source": [
    "\n",
    "TEST_SET = False\n",
    "SPLIT = 0.1\n",
    "with open(\"Charge.txt\", encoding='utf-8') as f:\n",
    "    templates = f.readlines()\n",
    "    # templates = [line.strip().split(\" \") for line in templates]\n",
    "    templates = [['<sos>'] + line.strip().split(\" \") + ['<eos>'] for line in templates]\n",
    "\n",
    "\n",
    "random.shuffle(templates)\n",
    "num_val_samples = int(SPLIT * len(templates))\n",
    "if TEST_SET:\n",
    "    num_train_samples = len(templates) - 2 * num_val_samples\n",
    "    train_templates = templates[:num_train_samples]\n",
    "    val_templates = templates[num_train_samples : num_train_samples + num_val_samples]\n",
    "    test_templates = templates[num_train_samples + num_val_samples :]\n",
    "else:\n",
    "    num_train_samples = len(templates) - num_val_samples\n",
    "    train_templates = templates[:num_train_samples]\n",
    "    val_templates = templates[num_train_samples : num_train_samples + num_val_samples]\n",
    "    test_templates = []\n",
    "\n",
    "\n",
    "print(f\"{len(templates)} total templates\")\n",
    "print(f\"{len(train_templates)} training templates\")\n",
    "print(f\"{len(val_templates)} validation templates\")\n",
    "print(f\"{len(test_templates)} test templates\")"
   ],
   "metadata": {
    "collapsed": false,
    "pycharm": {
     "name": "#%%\n"
    }
   }
  },
  {
   "cell_type": "code",
   "execution_count": 3,
   "outputs": [],
   "source": [
    "BATCH_SIZE = 32\n",
    "MAX_SEQ_LEN = 45\n",
    "NUM_WORDS = 250\n",
    "steps_per_epoch=50000\n",
    "validation_steps=30000\n",
    "DEVICE = torch.device('cuda' if torch.cuda.is_available() else 'cpu')\n",
    "DEVICE = torch.device('cpu')\n",
    "x_tokenizer = Tokenizer(num_words=NUM_WORDS, max_seq_len=MAX_SEQ_LEN, for_sentence=True)\n",
    "y_tokenizer = Tokenizer(num_words=NUM_WORDS, max_seq_len=MAX_SEQ_LEN, for_sentence=False, sos_eos=True)\n",
    "\n",
    "td = ChargeDataset(train_templates, x_tokenizer, y_tokenizer, steps_per_epoch, DEVICE)\n",
    "x, y = td.__getitem__(0)"
   ],
   "metadata": {
    "collapsed": false,
    "pycharm": {
     "name": "#%%\n"
    }
   }
  },
  {
   "cell_type": "code",
   "execution_count": 7,
   "outputs": [
    {
     "data": {
      "text/plain": "tensor([12,  1,  6,  2,  1,  5,  7,  1,  1,  1,  3,  1,  1,  1,  4, 10,  1,  1,\n         1, 13])"
     },
     "execution_count": 7,
     "metadata": {},
     "output_type": "execute_result"
    }
   ],
   "source": [
    "y"
   ],
   "metadata": {
    "collapsed": false,
    "pycharm": {
     "name": "#%%\n"
    }
   }
  },
  {
   "cell_type": "code",
   "execution_count": 6,
   "outputs": [
    {
     "name": "stdout",
     "output_type": "stream",
     "text": [
      "['<sos>', 'شارژ', 'رایتل', 'معمولی', 'مبلغ', '5242069', 'میلیارد', 'بوسیله', 'حساب', 'شماره', '2038562210457219', 'سی', 'خط', 'شماره', 'زیحث', 'حوص', 'برای', 'خودم', 'میخری', '<eos>']\n",
      "['<sos>', 'O', 'operator', 'charge_type', 'O', 'amount', 'unit', 'O', 'O', 'O', 'bnumber', 'O', 'O', 'O', 'pnumber', 'pnumber_post', 'O', 'O', 'O', '<eos>']\n"
     ]
    }
   ],
   "source": [
    "print(x_tokenizer.seq_to_words(x.cpu().numpy()))\n",
    "# print(y_tokenizer.seq_to_words(y.argmax(axis=1).cpu().numpy()))\n",
    "print(y_tokenizer.seq_to_words(y.cpu().numpy()))"
   ],
   "metadata": {
    "collapsed": false,
    "pycharm": {
     "name": "#%%\n"
    }
   }
  },
  {
   "cell_type": "code",
   "execution_count": 9,
   "outputs": [],
   "source": [
    "def collate_fn(batch):\n",
    "    PAD_IDX = CONF[\"special_tokens\"][CONF[\"pad_token\"]]\n",
    "    src_batch, tgt_batch = [], []\n",
    "    for src_sample, tgt_sample in batch:\n",
    "        src_batch.append(src_sample)\n",
    "        tgt_batch.append(src_sample)\n",
    "    src_batch = pad_sequence(src_batch, padding_value=PAD_IDX, batch_first=True)\n",
    "    tgt_batch = pad_sequence(tgt_batch, padding_value=PAD_IDX, batch_first=True)\n",
    "    return src_batch, tgt_batch\n",
    "\n",
    "dataloader = DataLoader(td, batch_size=32, shuffle=True, collate_fn=collate_fn)"
   ],
   "metadata": {
    "collapsed": false,
    "pycharm": {
     "name": "#%%\n"
    }
   }
  },
  {
   "cell_type": "code",
   "execution_count": 12,
   "outputs": [
    {
     "name": "stdout",
     "output_type": "stream",
     "text": [
      "torch.Size([32, 21])\n",
      "torch.Size([32, 23])\n",
      "torch.Size([32, 20])\n",
      "torch.Size([32, 19])\n",
      "torch.Size([32, 21])\n",
      "torch.Size([32, 25])\n",
      "torch.Size([32, 24])\n",
      "torch.Size([32, 23])\n",
      "torch.Size([32, 23])\n",
      "torch.Size([32, 26])\n",
      "torch.Size([32, 22])\n",
      "torch.Size([32, 23])\n",
      "torch.Size([32, 23])\n",
      "torch.Size([32, 22])\n",
      "torch.Size([32, 23])\n",
      "torch.Size([32, 21])\n",
      "torch.Size([32, 22])\n",
      "16\n",
      "torch.Size([32, 22])\n"
     ]
    }
   ],
   "source": [
    "for i_batch, sample_batched in enumerate(dataloader):\n",
    "    # print(sample_batched[1])\n",
    "    print(sample_batched[0].shape)\n",
    "    if i_batch > 15 :\n",
    "        break\n",
    "\n",
    "print(i_batch)\n",
    "print(sample_batched[0].shape)"
   ],
   "metadata": {
    "collapsed": false,
    "pycharm": {
     "name": "#%%\n"
    }
   }
  },
  {
   "cell_type": "code",
   "execution_count": 17,
   "outputs": [
    {
     "name": "stdout",
     "output_type": "stream",
     "text": [
      "torch.Size([16, 45, 14])\n"
     ]
    }
   ],
   "source": [
    "print(sample_batched[1].size())"
   ],
   "metadata": {
    "collapsed": false,
    "pycharm": {
     "name": "#%%\n"
    }
   }
  },
  {
   "cell_type": "code",
   "execution_count": 9,
   "outputs": [
    {
     "data": {
      "text/plain": "5001"
     },
     "execution_count": 9,
     "metadata": {},
     "output_type": "execute_result"
    }
   ],
   "source": [
    "len(td.test)"
   ],
   "metadata": {
    "collapsed": false,
    "pycharm": {
     "name": "#%%\n"
    }
   }
  },
  {
   "cell_type": "code",
   "execution_count": 13,
   "outputs": [
    {
     "name": "stdout",
     "output_type": "stream",
     "text": [
      "3\n"
     ]
    },
    {
     "data": {
      "text/plain": "3"
     },
     "execution_count": 13,
     "metadata": {},
     "output_type": "execute_result"
    }
   ],
   "source": [
    "a = [1,2,3]\n",
    "print(len(a))\n",
    "random.choice(a)\n",
    "len(a)"
   ],
   "metadata": {
    "collapsed": false,
    "pycharm": {
     "name": "#%%\n"
    }
   }
  },
  {
   "cell_type": "code",
   "execution_count": 26,
   "outputs": [
    {
     "data": {
      "text/plain": "<All keys matched successfully>"
     },
     "execution_count": 26,
     "metadata": {},
     "output_type": "execute_result"
    }
   ],
   "source": [
    "from charge_dataset import ChargeDataset\n",
    "import random\n",
    "from tokenizer import Tokenizer\n",
    "import torch\n",
    "from torch.utils.data import DataLoader\n",
    "from utils import  *\n",
    "from model import *\n",
    "from train import train\n",
    "CONF = load_conf()\n",
    "CONF[\"special_tokens\"] = {\n",
    "    # CONF[\"unk_token\"]: 1,\n",
    "    CONF[\"pad_token\"]: 0,\n",
    "    # CONF[\"sos_token\"]: 12,\n",
    "    # CONF[\"eos_token\"]: 13,\n",
    "}\n",
    "\n",
    "encoder = Encoder(input_dim = CONF[\"num_words\"]*2,\n",
    "                  emb_dim = CONF['embed_size'],\n",
    "                  hid_dim = CONF['hidden_size'],\n",
    "                  n_layers = CONF['encoder_layers'],\n",
    "                  kernel_size = CONF['kernel_size'],\n",
    "                  dropout = CONF['dropout'],\n",
    "                  device = DEVICE,\n",
    "                  max_length=CONF['max_length'],\n",
    "                  )\n",
    "\n",
    "decoder = Decoder(output_dim = CONF[\"num_words\"]*2,\n",
    "                  emb_dim = CONF['embed_size'],\n",
    "                  hid_dim = CONF['hidden_size'],\n",
    "                  n_layers = CONF['decoder_layers'],\n",
    "                  kernel_size = CONF['kernel_size'],\n",
    "                  dropout = CONF['dropout'],\n",
    "                  tgt_pad_idx = CONF[\"special_tokens\"][CONF['pad_token']],\n",
    "                  device = DEVICE,\n",
    "                  max_length=CONF['max_length'],\n",
    "                  )\n",
    "\n",
    "convs2s = Seq2Seq(encoder, decoder, device = DEVICE,)\n",
    "chkpoint = torch.load(os.path.join(\"checkpoint\", 'bestmodel.pt'))\n",
    "convs2s.load_state_dict(chkpoint)"
   ],
   "metadata": {
    "collapsed": false,
    "pycharm": {
     "name": "#%%\n"
    }
   }
  },
  {
   "cell_type": "code",
   "execution_count": 48,
   "outputs": [
    {
     "name": "stdout",
     "output_type": "stream",
     "text": [
      "45\n"
     ]
    }
   ],
   "source": [
    "from tokenizer import Tokenizer\n",
    "import os\n",
    "import numpy as np\n",
    "model = torch.load(os.path.join(\"checkpoint\", 'bestmodel.pt'))\n",
    "# Create Tokenizers\n",
    "x_tokenizer = Tokenizer(num_words=250, max_seq_len=45,\n",
    "                        for_sentence=True)\n",
    "y_tokenizer = Tokenizer(num_words=250, max_seq_len=45,\n",
    "                        for_sentence=False, sos_eos=True)\n",
    "\n",
    "\n",
    "sentence = \"شارژ شگفت انگیز ایرنسل 50 هزار تومنی\"\n",
    "input_seq = x_tokenizer.words_to_seq(sentence.split(\" \"))\n",
    "slots = y_tokenizer.words_to_seq([\"O\", \"charge_type\", \"charge_type_post\",\n",
    "                                  \"operator\", \"amount\", \"unit\", \"unit\"])\n",
    "print(len(slots))\n",
    "input_seq = torch.tensor([input_seq])\n",
    "slots = torch.tensor([slots])\n",
    "\n",
    "output, _ = convs2s(input_seq, slots[:,:-1])\n",
    "output_dim = output.shape[-1]\n",
    "output = output.contiguous().view(-1, output_dim)\n",
    "slots = slots[:,1:].contiguous().view(-1)"
   ],
   "metadata": {
    "collapsed": false,
    "pycharm": {
     "name": "#%%\n"
    }
   }
  },
  {
   "cell_type": "code",
   "execution_count": 49,
   "outputs": [
    {
     "data": {
      "text/plain": "tensor([2, 8, 6, 5, 7, 7, 0, 0, 0, 0, 0, 0, 0, 0, 0, 0, 0, 0, 0, 0, 0, 0, 0, 0,\n        0, 0, 0, 0, 0, 0, 0, 0, 0, 0, 0, 0, 0, 0, 0, 0, 0, 0, 0, 0])"
     },
     "execution_count": 49,
     "metadata": {},
     "output_type": "execute_result"
    }
   ],
   "source": [
    "slots"
   ],
   "metadata": {
    "collapsed": false,
    "pycharm": {
     "name": "#%%\n"
    }
   }
  },
  {
   "cell_type": "code",
   "execution_count": 54,
   "outputs": [
    {
     "data": {
      "text/plain": "torch.Size([44])"
     },
     "execution_count": 54,
     "metadata": {},
     "output_type": "execute_result"
    }
   ],
   "source": [
    "output.argmax(axis=1).size()"
   ],
   "metadata": {
    "collapsed": false,
    "pycharm": {
     "name": "#%%\n"
    }
   }
  },
  {
   "cell_type": "code",
   "execution_count": null,
   "outputs": [],
   "source": [],
   "metadata": {
    "collapsed": false,
    "pycharm": {
     "name": "#%%\n"
    }
   }
  }
 ],
 "metadata": {
  "kernelspec": {
   "display_name": "Python 3",
   "language": "python",
   "name": "python3"
  },
  "language_info": {
   "codemirror_mode": {
    "name": "ipython",
    "version": 2
   },
   "file_extension": ".py",
   "mimetype": "text/x-python",
   "name": "python",
   "nbconvert_exporter": "python",
   "pygments_lexer": "ipython2",
   "version": "2.7.6"
  }
 },
 "nbformat": 4,
 "nbformat_minor": 0
}