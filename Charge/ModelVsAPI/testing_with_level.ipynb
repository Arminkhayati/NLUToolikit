{
 "cells": [
  {
   "cell_type": "code",
   "execution_count": 39,
   "outputs": [],
   "source": [
    "import requests\n",
    "from requests_toolbelt.multipart.encoder import MultipartEncoder\n",
    "import pickle\n",
    "from data_generator import DataGenerator\n",
    "import sentence_from_template as sft\n",
    "from sklearn.metrics import accuracy_score\n",
    "import numpy as np\n",
    "from time import sleep\n",
    "import uuid\n",
    "from tqdm.notebook import tqdm\n",
    "from copy import copy, deepcopy\n",
    "from leven import levenshtein"
   ],
   "metadata": {
    "collapsed": false,
    "pycharm": {
     "name": "#%%\n"
    }
   }
  },
  {
   "cell_type": "code",
   "execution_count": 2,
   "outputs": [],
   "source": [
    "labels_conv = {\n",
    "    \"Operatorname\": \"operator\",\n",
    "    \"AMOUNT\": \"amount\",\n",
    "    \"ORIGINACCOUNT\": \"bnumber\",\n",
    "    \"MOBILENUMBER\": \"pnumber\",\n",
    "    \"chargeType\": \"charge_type\",\n",
    "}\n",
    "\n",
    "labels_conv_inv = {\n",
    "    \"operator\": \"Operatorname\",\n",
    "    \"amount\": \"AMOUNT\",\n",
    "    \"bnumber\": \"ORIGINACCOUNT\",\n",
    "    \"pnumber\": \"MOBILENUMBER\",\n",
    "    \"charge_type\": \"chargeType\",\n",
    "}\n",
    "\n",
    "def create_grand_truth(sentence, slots):\n",
    "    grand_truth = []\n",
    "    for i, slot in enumerate(slots):\n",
    "        if slot != \"O\":\n",
    "            grand_truth.append((sentence[i], slot))\n",
    "    return grand_truth\n",
    "\n",
    "def concat_operator_post(words, slots, word):\n",
    "    result_word = word\n",
    "    for i, slot in enumerate(slots):\n",
    "        if slot == \"operator_post\":\n",
    "            result_word = result_word + \" \" + words[i]\n",
    "        else:\n",
    "            break\n",
    "    return result_word, \"operator\"\n",
    "\n",
    "def concat_bnumber_post(words, slots, word):\n",
    "    result_word = word\n",
    "    for i, slot in enumerate(slots):\n",
    "        if slot == \"bnumber_post\":\n",
    "            result_word = result_word + \" \" + words[i]\n",
    "        else:\n",
    "            break\n",
    "    return result_word, \"bnumber\"\n",
    "\n",
    "def concat_pnumber_post(words, slots, word):\n",
    "    result_word = word\n",
    "    for i, slot in enumerate(slots):\n",
    "        if slot == \"pnumber_post\":\n",
    "            result_word = result_word + \" \" + words[i]\n",
    "        else:\n",
    "            break\n",
    "    return result_word, \"pnumber\"\n",
    "\n",
    "def concat_charge_type_post(words, slots, word):\n",
    "    result_word = word\n",
    "    for i, slot in enumerate(slots):\n",
    "        if slot == \"charge_type_post\":\n",
    "            result_word = result_word + \" \" + words[i]\n",
    "        else:\n",
    "            break\n",
    "    return result_word, \"charge_type\"\n",
    "\n",
    "def concat_post(grand_truth):\n",
    "    words, slots = [ i for i, j in grand_truth ], [ j for i, j in grand_truth ]\n",
    "    new_words, new_slots = [], []\n",
    "    for i, slot in enumerate(slots):\n",
    "        if slot == \"operator\":\n",
    "            w, s = concat_operator_post(words[i+1:], slots[i+1:], words[i])\n",
    "            new_words.append(w)\n",
    "            new_slots.append(s)\n",
    "        elif slot == \"bnumber\":\n",
    "            w, s = concat_bnumber_post(words[i+1:], slots[i+1:], words[i])\n",
    "            new_words.append(w)\n",
    "            new_slots.append(s)\n",
    "        elif slot == \"pnumber\":\n",
    "            w, s = concat_pnumber_post(words[i+1:], slots[i+1:], words[i])\n",
    "            new_words.append(w)\n",
    "            new_slots.append(s)\n",
    "        elif slot == \"charge_type\":\n",
    "            w, s = concat_charge_type_post(words[i+1:], slots[i+1:], words[i])\n",
    "            new_words.append(w)\n",
    "            new_slots.append(s)\n",
    "        elif \"_post\" not in slot:\n",
    "            new_words.append(words[i])\n",
    "            new_slots.append(slots[i])\n",
    "    return new_words, new_slots\n",
    "\n",
    "\n",
    "def create_prediction(pred, gt):\n",
    "    pred_dict = {}\n",
    "    for p in pred:\n",
    "        pred_dict[p[\"name\"]] = p[\"value\"]\n",
    "\n",
    "    if (\"unit\" in gt.keys()):\n",
    "        if \"توم\" in gt[\"unit\"]:\n",
    "            gt[\"amount\"] = gt[\"amount\"] + \"0\"\n",
    "    # print(pred_dict)\n",
    "    # print(gt)\n",
    "    prediction_list, grand_truth_list = [], []\n",
    "    prediction_dict, grand_truth_dict = {}, {}\n",
    "    for k in gt.keys():\n",
    "        if k == \"unit\":\n",
    "            continue\n",
    "        pred_key = labels_conv_inv[k]\n",
    "        grand_truth_dict[k] = gt[k]\n",
    "        if (pred_key not in pred_dict.keys()) or (pred_dict[pred_key] == None):\n",
    "            prediction_dict[k] = \"----\"\n",
    "            prediction_list.append(\"----\")\n",
    "        else:\n",
    "            prediction_dict[k] = pred_dict[pred_key]\n",
    "            prediction_list.append(pred_dict[pred_key])\n",
    "        grand_truth_list.append(gt[k])\n",
    "    # print(grand_truth_list)\n",
    "    # print(prediction_list)\n",
    "    # print(prediction_dict)\n",
    "    # print(grand_truth_dict)\n",
    "    return grand_truth_list, prediction_list, grand_truth_dict, prediction_dict"
   ],
   "metadata": {
    "collapsed": false,
    "pycharm": {
     "name": "#%%\n"
    }
   }
  },
  {
   "cell_type": "code",
   "execution_count": 3,
   "outputs": [],
   "source": [
    "slots_order = [\"bnumber\", \"pnumber\", \"amount\", \"operator\", \"charge_type\"]"
   ],
   "metadata": {
    "collapsed": false,
    "pycharm": {
     "name": "#%%\n"
    }
   }
  },
  {
   "cell_type": "code",
   "execution_count": 36,
   "outputs": [
    {
     "data": {
      "text/plain": "0it [00:00, ?it/s]",
      "application/vnd.jupyter.widget-view+json": {
       "version_major": 2,
       "version_minor": 0,
       "model_id": "75733e00d2cc46dfa9dc31358ff831d8"
      }
     },
     "metadata": {},
     "output_type": "display_data"
    }
   ],
   "source": [
    "# with open(\"data.pickle\", 'rb') as f:\n",
    "#     data = pickle.load(f)\n",
    "#\n",
    "# grand_truths = []\n",
    "# for sentence, slots in zip(data[\"x\"], data[\"y\"]):\n",
    "#     gt = create_grand_truth(sentence, slots)\n",
    "#     new_words, new_slots = concat_post(gt)\n",
    "#     grand_truths.append(dict(list(zip(new_slots, new_words))))\n",
    "#\n",
    "#\n",
    "# api_url = \"https://api.msgata.com/nlu\"\n",
    "# outputs = []\n",
    "#\n",
    "# for i, sentence in tqdm(enumerate(data[\"x\"][:2000])):\n",
    "#     sentence = \" \".join(sentence)\n",
    "#     mp_encoder = MultipartEncoder(fields={'text': sentence, \"language\": \"fa\", \"userId\": str(uuid.uuid4())})\n",
    "#     headers = {'Content-Type': mp_encoder.content_type, \"devkey\": \"397124958FA659C9F1A5C7BC96788\",\n",
    "#                \"token\": \"12\", \"Cache-Control\": \"no-cache\",\n",
    "#                \"Pragma\": \"no-cache\"}\n",
    "#     res = requests.post(api_url, data=mp_encoder, headers=headers)\n",
    "#     js = res.json()\n",
    "#     result = js['Response']['responses'][0]['entities']\n",
    "#     # print(result)\n",
    "#     y, y_pred, yy, yy_pred = create_prediction(result, grand_truths[i])\n",
    "#     outputs.append((y, y_pred, yy, yy_pred))\n",
    "\n",
    "# with open(\"output_txt/output.pickle\", \"wb\") as f:\n",
    "#     pickle.dump(outputs, f)"
   ],
   "metadata": {
    "collapsed": false,
    "pycharm": {
     "name": "#%%\n"
    }
   }
  },
  {
   "cell_type": "code",
   "execution_count": 27,
   "outputs": [],
   "source": [
    "with open(\"output_txt/output.pickle\", \"rb\") as f:\n",
    "    outputs = pickle.load(f)"
   ],
   "metadata": {
    "collapsed": false,
    "pycharm": {
     "name": "#%%\n"
    }
   }
  },
  {
   "cell_type": "code",
   "execution_count": 38,
   "outputs": [],
   "source": [
    "def create_slot_sequence(yy, yy_pred):\n",
    "    sequence = \"\"\n",
    "    for o in slots_order:\n",
    "        if o not in yy.keys():\n",
    "            continue\n",
    "        if (o == \"charge_type\") and (yy_pred[o] == \"1\"):\n",
    "            yy_pred[o] = \"معمولی\"\n",
    "        if yy[o] == yy_pred[o]:\n",
    "            sequence = sequence + \"a\"\n",
    "        else:\n",
    "            sequence = sequence + \"b\"\n",
    "    return sequence\n",
    "\n",
    "sequences = map(lambda item: create_slot_sequence(item[2], item[3]), outputs)\n",
    "sequences = list(sequences)\n"
   ],
   "metadata": {
    "collapsed": false,
    "pycharm": {
     "name": "#%%\n"
    }
   }
  },
  {
   "cell_type": "code",
   "execution_count": 41,
   "outputs": [],
   "source": [
    "result = []\n",
    "for s in sequences:\n",
    "    orig = \"a\" * len(s)\n",
    "    metric = levenshtein(orig, s)\n",
    "    result.append(metric)\n"
   ],
   "metadata": {
    "collapsed": false,
    "pycharm": {
     "name": "#%%\n"
    }
   }
  },
  {
   "cell_type": "code",
   "execution_count": 42,
   "outputs": [
    {
     "data": {
      "text/plain": "976"
     },
     "execution_count": 42,
     "metadata": {},
     "output_type": "execute_result"
    }
   ],
   "source": [
    "np.sum(result)"
   ],
   "metadata": {
    "collapsed": false,
    "pycharm": {
     "name": "#%%\n"
    }
   }
  },
  {
   "cell_type": "code",
   "execution_count": null,
   "outputs": [],
   "source": [
    "# 1 as normal charge\n",
    "# x == x then a else b -> aaabb"
   ],
   "metadata": {
    "collapsed": false,
    "pycharm": {
     "name": "#%%\n"
    }
   }
  }
 ],
 "metadata": {
  "kernelspec": {
   "display_name": "Python 3",
   "language": "python",
   "name": "python3"
  },
  "language_info": {
   "codemirror_mode": {
    "name": "ipython",
    "version": 2
   },
   "file_extension": ".py",
   "mimetype": "text/x-python",
   "name": "python",
   "nbconvert_exporter": "python",
   "pygments_lexer": "ipython2",
   "version": "2.7.6"
  }
 },
 "nbformat": 4,
 "nbformat_minor": 0
}